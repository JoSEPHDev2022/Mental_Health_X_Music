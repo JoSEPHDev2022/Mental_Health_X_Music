{
 "cells": [
  {
   "attachments": {},
   "cell_type": "markdown",
   "metadata": {},
   "source": [
    "> # **Análise Exploratória: Relações entre Música e Saúde Mental**"
   ]
  }
 ],
 "metadata": {
  "kernelspec": {
   "display_name": "base",
   "language": "python",
   "name": "python3"
  },
  "language_info": {
   "name": "python",
   "version": "3.9.12 (main, Apr  4 2022, 05:22:27) [MSC v.1916 64 bit (AMD64)]"
  },
  "orig_nbformat": 4,
  "vscode": {
   "interpreter": {
    "hash": "594af92f1fbe2151803567768ef02c6f133f2dd09ab238e968f9d14c9ef1bc27"
   }
  }
 },
 "nbformat": 4,
 "nbformat_minor": 2
}
